{
  "nbformat": 4,
  "nbformat_minor": 0,
  "metadata": {
    "colab": {
      "name": "NewProfile2.ipynb",
      "provenance": [],
      "authorship_tag": "ABX9TyNJLirdoKrmkUWh4Ewt3PDG"
    },
    "kernelspec": {
      "name": "python3",
      "display_name": "Python 3"
    },
    "language_info": {
      "name": "python"
    }
  },
  "cells": [
    {
      "cell_type": "markdown",
      "metadata": {
        "id": "ihnfX8JDWZCS"
      },
      "source": [
        "## Classification\n"
      ]
    },
    {
      "cell_type": "code",
      "metadata": {
        "id": "jBZxxLANWWNf"
      },
      "source": [
        "# Loading the Libraries and Data\n",
        "import pandas as pd\n",
        "pd.set_option('display.max_colwidth', 500)\n",
        "import numpy as np\n",
        "import matplotlib.pyplot as plt\n",
        "import seaborn as sns\n",
        "import _pickle as pickle\n",
        "from sklearn.feature_extraction.text import CountVectorizer\n",
        "from sklearn.cluster import AgglomerativeClustering\n",
        "from sklearn.metrics import silhouette_score, davies_bouldin_score\n",
        "from sklearn.preprocessing import MinMaxScaler\n",
        "from sklearn.model_selection import train_test_split\n",
        "from sklearn.metrics import confusion_matrix, classification_report\n",
        "from sklearn.pipeline import Pipeline\n",
        "from tqdm import tqdm_notebook as tqdm\n",
        "\n",
        "# Loading in the original unclustered DF\n",
        "with open(\"numuser_data.pkl\",'rb') as fp:\n",
        "    raw_df = pickle.load(fp)\n",
        "\n",
        "# Loading in the clustered DF\n",
        "with open(\"clustered_profiles.pkl\",'rb') as fp:\n",
        "    cluster_df = pickle.load(fp)"
      ],
      "execution_count": 1,
      "outputs": []
    },
    {
      "cell_type": "code",
      "metadata": {
        "colab": {
          "base_uri": "https://localhost:8080/"
        },
        "id": "IPwKsMQyWgA7",
        "outputId": "e0da1f20-0b39-468b-d7bf-6c5aa55d96e5"
      },
      "source": [
        "# Instantiating a new DF row to append later\n",
        "new_profile = pd.DataFrame(columns=raw_df.columns)\n",
        "\n",
        "# Adding random values for new data\n",
        "for i in new_profile.columns[1:]:\n",
        "    new_profile[i] = np.random.randint(0,10,1)\n",
        "\n",
        "# Printing an user interface for inputting new values\n",
        "print(\"Enter new profile information...\\n\\nExample Bio:\\nBacon enthusiast. Falls down a lot. Freelance social media fan. Infuriatingly humble introvert.\")\n",
        "\n",
        "# Asking for new profile data\n",
        "new_profile['Bios'] = input(\"Enter bio: \")\n",
        "\n",
        "# Indexing that new profile data\n",
        "new_profile.index = [raw_df.index[-1] + 1]"
      ],
      "execution_count": 2,
      "outputs": [
        {
          "name": "stdout",
          "output_type": "stream",
          "text": [
            "Enter new profile information...\n",
            "\n",
            "Example Bio:\n",
            "Bacon enthusiast. Falls down a lot. Freelance social media fan. Infuriatingly humble introvert.\n",
            "Enter bio: food lover. dog lover\n"
          ]
        }
      ]
    },
    {
      "cell_type": "code",
      "metadata": {
        "id": "5zyiNYJJXbNK"
      },
      "source": [
        "from sklearn.dummy import DummyClassifier\n",
        "from sklearn.neighbors import KNeighborsClassifier\n",
        "from sklearn.svm import SVC"
      ],
      "execution_count": 3,
      "outputs": []
    },
    {
      "cell_type": "markdown",
      "metadata": {
        "id": "v42u8AepXg97"
      },
      "source": [
        "## Vectorizing and Scaling"
      ]
    },
    {
      "cell_type": "code",
      "metadata": {
        "id": "NGjRMpjcXdTK"
      },
      "source": [
        "# Assigning the split variables\n",
        "X = cluster_df.drop([\"Cluster #\"], 1)\n",
        "y = cluster_df['Cluster #']"
      ],
      "execution_count": 4,
      "outputs": []
    },
    {
      "cell_type": "code",
      "metadata": {
        "id": "dZXRoWjOXtrl"
      },
      "source": [
        "## Vectorizing\n",
        "# Instantiating the Vectorizer\n",
        "vectorizer = CountVectorizer()\n",
        "\n",
        "# Fitting the vectorizer to the Bios\n",
        "x = vectorizer.fit_transform(X['Bios'])\n",
        "\n",
        "# Creating a new DF that contains the vectorized words\n",
        "df_wrds = pd.DataFrame(x.toarray(), columns=vectorizer.get_feature_names())\n",
        "\n",
        "# Concating the words DF with the original DF\n",
        "X = pd.concat([X, df_wrds], axis=1)\n",
        "\n",
        "# Dropping the Bios because it is no longer needed in place of vectorization\n",
        "X.drop(['Bios'], axis=1, inplace=True)"
      ],
      "execution_count": 5,
      "outputs": []
    },
    {
      "cell_type": "code",
      "metadata": {
        "id": "9rUjMFKyXt3B"
      },
      "source": [
        "## Scaling the Data\n",
        "scaler = MinMaxScaler()\n",
        "\n",
        "X = pd.DataFrame(scaler.fit_transform(X), index=X.index, columns=X.columns)"
      ],
      "execution_count": 6,
      "outputs": []
    },
    {
      "cell_type": "code",
      "metadata": {
        "id": "jmqbRrUgYiFr"
      },
      "source": [
        "# Vectorizing the new data\n",
        "vect_new_prof = vectorizer.transform(new_profile['Bios'])\n",
        "\n",
        "# Quick DF of the vectorized words\n",
        "new_vect_w = pd.DataFrame(vect_new_prof.toarray(), columns=vectorizer.get_feature_names(), index=new_profile.index)\n",
        "\n",
        "# Concatenating the DFs for the new profile data\n",
        "new_vect_prof = pd.concat([new_profile, new_vect_w], 1).drop('Bios', 1)\n",
        "\n",
        "# Scaling the new profile data\n",
        "new_vect_prof = pd.DataFrame(scaler.transform(new_vect_prof), columns=new_vect_prof.columns, index=new_vect_prof.index)\n"
      ],
      "execution_count": 7,
      "outputs": []
    },
    {
      "cell_type": "markdown",
      "metadata": {
        "id": "KNb7nKORY3LI"
      },
      "source": [
        "## Modelling the User Profiles"
      ]
    },
    {
      "cell_type": "code",
      "metadata": {
        "colab": {
          "base_uri": "https://localhost:8080/"
        },
        "id": "De5ymIkBYiW2",
        "outputId": "89a94f16-e4c3-4824-cc22-b645fa760165"
      },
      "source": [
        "# Train, test, split\n",
        "X_train, X_test, y_train, y_test = train_test_split(X, y)\n",
        "\n",
        "# Dummy\n",
        "dummy = DummyClassifier(strategy='stratified')\n",
        "\n",
        "# KNN\n",
        "knn = KNeighborsClassifier()\n",
        "\n",
        "# SVM\n",
        "svm = SVC()\n",
        "\n",
        "# List of models\n",
        "models = [dummy, knn, svm]\n",
        "\n",
        "# List of model names\n",
        "names = ['Dummy', 'KNN', 'SVM']\n",
        "\n",
        "# Zipping the lists\n",
        "classifiers = dict(zip(names, models))\n",
        "\n",
        "# Dictionary containing the model names and their scores\n",
        "models_f1 = {}\n",
        "\n",
        "# Looping through each model's predictions and getting their classification reports\n",
        "for name, model in classifiers.items():\n",
        "    # Fitting the model\n",
        "    model.fit(X_train, y_train)\n",
        "    \n",
        "    print('\\n'+ name + ' (Macro Avg - F1 Score):')\n",
        "    \n",
        "    # Classification Report\n",
        "    report = classification_report(y_test, model.predict(X_test), output_dict=True)\n",
        "    f1 = report['macro avg']['f1-score']\n",
        "    \n",
        "    # Assigning to the Dictionary\n",
        "    models_f1[name] = f1\n",
        "    \n",
        "    print(f1)\n",
        "\n",
        "# Printing out the best performing model    \n",
        "print(max(models_f1, key=models_f1.get), 'Score:', max(models_f1.values()))"
      ],
      "execution_count": 8,
      "outputs": [
        {
          "output_type": "stream",
          "name": "stdout",
          "text": [
            "\n",
            "Dummy (Macro Avg - F1 Score):\n",
            "0.09036562731882401\n",
            "\n",
            "KNN (Macro Avg - F1 Score):\n",
            "1.0\n",
            "\n",
            "SVM (Macro Avg - F1 Score):\n",
            "1.0\n",
            "KNN Score: 1.0\n"
          ]
        }
      ]
    },
    {
      "cell_type": "markdown",
      "metadata": {
        "id": "_r9YHvXGZYO4"
      },
      "source": [
        "## Using the SVM Classifier New Data"
      ]
    },
    {
      "cell_type": "code",
      "metadata": {
        "id": "qHW9_H4wXuBy"
      },
      "source": [
        "# Fitting the model\n",
        "svm.fit(X, y)\n",
        "# Classifying the new data \n",
        "designated_cluster = svm.predict(new_vect_prof)\n",
        "# Narrowing down the dataset to only the designated cluster\n",
        "des_cluster = (cluster_df[cluster_df['Cluster #']== designated_cluster[0]])"
      ],
      "execution_count": 9,
      "outputs": []
    },
    {
      "cell_type": "code",
      "metadata": {
        "colab": {
          "base_uri": "https://localhost:8080/",
          "height": 501
        },
        "id": "OIGO4Kj2XuKq",
        "outputId": "66e857f5-1b95-4480-e1bf-10ebe3f9d2c0"
      },
      "source": [
        "cluster_df"
      ],
      "execution_count": null,
      "outputs": [
        {
          "output_type": "execute_result",
          "data": {
            "text/html": [
              "<div>\n",
              "<style scoped>\n",
              "    .dataframe tbody tr th:only-of-type {\n",
              "        vertical-align: middle;\n",
              "    }\n",
              "\n",
              "    .dataframe tbody tr th {\n",
              "        vertical-align: top;\n",
              "    }\n",
              "\n",
              "    .dataframe thead th {\n",
              "        text-align: right;\n",
              "    }\n",
              "</style>\n",
              "<table border=\"1\" class=\"dataframe\">\n",
              "  <thead>\n",
              "    <tr style=\"text-align: right;\">\n",
              "      <th></th>\n",
              "      <th>Bios</th>\n",
              "      <th>Location</th>\n",
              "      <th>Interested in</th>\n",
              "      <th>Age</th>\n",
              "      <th>Movies</th>\n",
              "      <th>Music</th>\n",
              "      <th>Sports</th>\n",
              "      <th>Politics</th>\n",
              "      <th>Social Media</th>\n",
              "      <th>Cluster #</th>\n",
              "    </tr>\n",
              "  </thead>\n",
              "  <tbody>\n",
              "    <tr>\n",
              "      <th>0</th>\n",
              "      <td>Social media geek. Freelance alcohol aficionado. Professional internet specialist. Avid writer.</td>\n",
              "      <td>4.0</td>\n",
              "      <td>0.0</td>\n",
              "      <td>2.0</td>\n",
              "      <td>9.0</td>\n",
              "      <td>5.0</td>\n",
              "      <td>5.0</td>\n",
              "      <td>0.0</td>\n",
              "      <td>8.0</td>\n",
              "      <td>7</td>\n",
              "    </tr>\n",
              "    <tr>\n",
              "      <th>1</th>\n",
              "      <td>Explorer. Incurable social media evangelist. Problem solver. Freelance pop culture junkie.</td>\n",
              "      <td>9.0</td>\n",
              "      <td>1.0</td>\n",
              "      <td>4.0</td>\n",
              "      <td>9.0</td>\n",
              "      <td>2.0</td>\n",
              "      <td>0.0</td>\n",
              "      <td>9.0</td>\n",
              "      <td>5.0</td>\n",
              "      <td>3</td>\n",
              "    </tr>\n",
              "    <tr>\n",
              "      <th>2</th>\n",
              "      <td>Friendly social media nerd. Beer guru. Future teen idol. Pop culture fanatic. Zombie enthusiast.</td>\n",
              "      <td>4.0</td>\n",
              "      <td>3.0</td>\n",
              "      <td>8.0</td>\n",
              "      <td>9.0</td>\n",
              "      <td>2.0</td>\n",
              "      <td>8.0</td>\n",
              "      <td>2.0</td>\n",
              "      <td>9.0</td>\n",
              "      <td>3</td>\n",
              "    </tr>\n",
              "    <tr>\n",
              "      <th>3</th>\n",
              "      <td>Beer enthusiast. Creator. Friendly bacon ninja. Extreme gamer. Total student. Wannabe travel geek. Unapologetic tv aficionado.</td>\n",
              "      <td>1.0</td>\n",
              "      <td>8.0</td>\n",
              "      <td>2.0</td>\n",
              "      <td>7.0</td>\n",
              "      <td>1.0</td>\n",
              "      <td>9.0</td>\n",
              "      <td>8.0</td>\n",
              "      <td>8.0</td>\n",
              "      <td>8</td>\n",
              "    </tr>\n",
              "    <tr>\n",
              "      <th>4</th>\n",
              "      <td>Lifelong communicator. Pop culture fanatic. Web fanatic. Proud creator. Reader. Certified writer.</td>\n",
              "      <td>2.0</td>\n",
              "      <td>5.0</td>\n",
              "      <td>1.0</td>\n",
              "      <td>1.0</td>\n",
              "      <td>5.0</td>\n",
              "      <td>5.0</td>\n",
              "      <td>0.0</td>\n",
              "      <td>1.0</td>\n",
              "      <td>2</td>\n",
              "    </tr>\n",
              "    <tr>\n",
              "      <th>...</th>\n",
              "      <td>...</td>\n",
              "      <td>...</td>\n",
              "      <td>...</td>\n",
              "      <td>...</td>\n",
              "      <td>...</td>\n",
              "      <td>...</td>\n",
              "      <td>...</td>\n",
              "      <td>...</td>\n",
              "      <td>...</td>\n",
              "      <td>...</td>\n",
              "    </tr>\n",
              "    <tr>\n",
              "      <th>4735</th>\n",
              "      <td>Total entrepreneur. Internet buff. Freelance beer ninja. Amateur student. Twitter maven. Tv specialist. General travel advocate. Coffee practitioner.</td>\n",
              "      <td>5.0</td>\n",
              "      <td>0.0</td>\n",
              "      <td>3.0</td>\n",
              "      <td>0.0</td>\n",
              "      <td>1.0</td>\n",
              "      <td>1.0</td>\n",
              "      <td>9.0</td>\n",
              "      <td>4.0</td>\n",
              "      <td>0</td>\n",
              "    </tr>\n",
              "    <tr>\n",
              "      <th>4736</th>\n",
              "      <td>Award-winning organizer. Future teen idol. Subtly charming creator. Music maven. Typical food junkie. Falls down a lot. Alcohol specialist.</td>\n",
              "      <td>0.0</td>\n",
              "      <td>1.0</td>\n",
              "      <td>6.0</td>\n",
              "      <td>2.0</td>\n",
              "      <td>3.0</td>\n",
              "      <td>6.0</td>\n",
              "      <td>2.0</td>\n",
              "      <td>3.0</td>\n",
              "      <td>8</td>\n",
              "    </tr>\n",
              "    <tr>\n",
              "      <th>4737</th>\n",
              "      <td>Entrepreneur. Coffee fanatic. Bacon nerd. Communicator. Prone to fits of apathy. Unapologetic zombie guru. Travel scholar. Writer.</td>\n",
              "      <td>6.0</td>\n",
              "      <td>7.0</td>\n",
              "      <td>5.0</td>\n",
              "      <td>4.0</td>\n",
              "      <td>5.0</td>\n",
              "      <td>7.0</td>\n",
              "      <td>7.0</td>\n",
              "      <td>8.0</td>\n",
              "      <td>6</td>\n",
              "    </tr>\n",
              "    <tr>\n",
              "      <th>4738</th>\n",
              "      <td>Certified explorer. Travel trailblazer. Friend of animals everywhere. Incurable alcohol enthusiast.</td>\n",
              "      <td>0.0</td>\n",
              "      <td>7.0</td>\n",
              "      <td>7.0</td>\n",
              "      <td>4.0</td>\n",
              "      <td>3.0</td>\n",
              "      <td>2.0</td>\n",
              "      <td>1.0</td>\n",
              "      <td>6.0</td>\n",
              "      <td>10</td>\n",
              "    </tr>\n",
              "    <tr>\n",
              "      <th>4739</th>\n",
              "      <td>Explorer. Amateur food evangelist. Passionate tv fan. Typical social mediaholic. Beer fanatic.</td>\n",
              "      <td>8.0</td>\n",
              "      <td>8.0</td>\n",
              "      <td>6.0</td>\n",
              "      <td>0.0</td>\n",
              "      <td>8.0</td>\n",
              "      <td>3.0</td>\n",
              "      <td>8.0</td>\n",
              "      <td>8.0</td>\n",
              "      <td>3</td>\n",
              "    </tr>\n",
              "  </tbody>\n",
              "</table>\n",
              "<p>4740 rows × 10 columns</p>\n",
              "</div>"
            ],
            "text/plain": [
              "                                                                                                                                                       Bios  ...  Cluster #\n",
              "0                                                           Social media geek. Freelance alcohol aficionado. Professional internet specialist. Avid writer.  ...          7\n",
              "1                                                                Explorer. Incurable social media evangelist. Problem solver. Freelance pop culture junkie.  ...          3\n",
              "2                                                          Friendly social media nerd. Beer guru. Future teen idol. Pop culture fanatic. Zombie enthusiast.  ...          3\n",
              "3                            Beer enthusiast. Creator. Friendly bacon ninja. Extreme gamer. Total student. Wannabe travel geek. Unapologetic tv aficionado.  ...          8\n",
              "4                                                         Lifelong communicator. Pop culture fanatic. Web fanatic. Proud creator. Reader. Certified writer.  ...          2\n",
              "...                                                                                                                                                     ...  ...        ...\n",
              "4735  Total entrepreneur. Internet buff. Freelance beer ninja. Amateur student. Twitter maven. Tv specialist. General travel advocate. Coffee practitioner.  ...          0\n",
              "4736            Award-winning organizer. Future teen idol. Subtly charming creator. Music maven. Typical food junkie. Falls down a lot. Alcohol specialist.  ...          8\n",
              "4737                     Entrepreneur. Coffee fanatic. Bacon nerd. Communicator. Prone to fits of apathy. Unapologetic zombie guru. Travel scholar. Writer.  ...          6\n",
              "4738                                                    Certified explorer. Travel trailblazer. Friend of animals everywhere. Incurable alcohol enthusiast.  ...         10\n",
              "4739                                                         Explorer. Amateur food evangelist. Passionate tv fan. Typical social mediaholic. Beer fanatic.  ...          3\n",
              "\n",
              "[4740 rows x 10 columns]"
            ]
          },
          "metadata": {},
          "execution_count": 13
        }
      ]
    },
    {
      "cell_type": "markdown",
      "metadata": {
        "id": "TpXQHrIHao1O"
      },
      "source": [
        "## Finding Top 10 Similar Profiles"
      ]
    },
    {
      "cell_type": "code",
      "metadata": {
        "colab": {
          "base_uri": "https://localhost:8080/",
          "height": 407
        },
        "id": "6lfiyQhSatoQ",
        "outputId": "8e2f4bdd-4e7b-4885-ac92-fc40ad42c1e5"
      },
      "source": [
        "# Appending the new profile data\n",
        "des_cluster = des_cluster.append(new_profile, sort=False)\n",
        "\n",
        "# Fitting the vectorizer to the Bios\n",
        "cluster_x = vectorizer.fit_transform(des_cluster['Bios'])\n",
        "\n",
        "# Creating a new DF that contains the vectorized words\n",
        "cluster_v = pd.DataFrame(cluster_x.toarray(), index=des_cluster.index, columns=vectorizer.get_feature_names())\n",
        "\n",
        "# Joining the Vectorized DF to the previous DF and dropping columns\n",
        "des_cluster = des_cluster.join(cluster_v).drop(['Bios', 'Cluster #'], axis=1)\n",
        "\n",
        "\n",
        "## Correlations\n",
        "# Trasnposing the DF so that we are correlating with the index(users) and finding the correlation\n",
        "corr = des_cluster.T.corr()\n",
        "\n",
        "# Finding the Top 10 similar or correlated users to the new user\n",
        "user_n = new_profile.index[0]\n",
        "\n",
        "# Creating a DF with the Top 10 most similar profiles\n",
        "top_10_sim = corr[[user_n]].sort_values(by=[user_n],axis=0, ascending=False)[1:11]\n",
        "\n",
        "# Finally locating the Top 10 profiles\n",
        "raw_df.loc[top_10_sim.index]"
      ],
      "execution_count": 10,
      "outputs": [
        {
          "output_type": "execute_result",
          "data": {
            "text/html": [
              "<div>\n",
              "<style scoped>\n",
              "    .dataframe tbody tr th:only-of-type {\n",
              "        vertical-align: middle;\n",
              "    }\n",
              "\n",
              "    .dataframe tbody tr th {\n",
              "        vertical-align: top;\n",
              "    }\n",
              "\n",
              "    .dataframe thead th {\n",
              "        text-align: right;\n",
              "    }\n",
              "</style>\n",
              "<table border=\"1\" class=\"dataframe\">\n",
              "  <thead>\n",
              "    <tr style=\"text-align: right;\">\n",
              "      <th></th>\n",
              "      <th>Bios</th>\n",
              "      <th>Location</th>\n",
              "      <th>Interested in</th>\n",
              "      <th>Age</th>\n",
              "      <th>Movies</th>\n",
              "      <th>Music</th>\n",
              "      <th>Sports</th>\n",
              "      <th>Politics</th>\n",
              "      <th>Social Media</th>\n",
              "    </tr>\n",
              "  </thead>\n",
              "  <tbody>\n",
              "    <tr>\n",
              "      <th>3751</th>\n",
              "      <td>Web expert. Explorer. Amateur internet guru. Subtly charming thinker. Zombie scholar. Avid bacon nerd. Communicator.</td>\n",
              "      <td>6</td>\n",
              "      <td>6</td>\n",
              "      <td>7</td>\n",
              "      <td>8</td>\n",
              "      <td>4</td>\n",
              "      <td>7</td>\n",
              "      <td>4</td>\n",
              "      <td>9</td>\n",
              "    </tr>\n",
              "    <tr>\n",
              "      <th>3185</th>\n",
              "      <td>Freelance zombie specialist. Twitter maven. Web scholar. Evil beer ninja. Food fanatic. Gamer. Hardcore music buff. Travel aficionado.</td>\n",
              "      <td>5</td>\n",
              "      <td>8</td>\n",
              "      <td>6</td>\n",
              "      <td>9</td>\n",
              "      <td>6</td>\n",
              "      <td>8</td>\n",
              "      <td>4</td>\n",
              "      <td>7</td>\n",
              "    </tr>\n",
              "    <tr>\n",
              "      <th>1797</th>\n",
              "      <td>Professional entrepreneur. Unapologetic communicator. Hardcore beer aficionado. Devoted student.</td>\n",
              "      <td>7</td>\n",
              "      <td>5</td>\n",
              "      <td>7</td>\n",
              "      <td>7</td>\n",
              "      <td>5</td>\n",
              "      <td>6</td>\n",
              "      <td>5</td>\n",
              "      <td>9</td>\n",
              "    </tr>\n",
              "    <tr>\n",
              "      <th>123</th>\n",
              "      <td>Beer enthusiast. Creator. Friendly bacon ninja. Extreme gamer. Total student. Wannabe travel geek. Unapologetic tv aficionado.</td>\n",
              "      <td>5</td>\n",
              "      <td>7</td>\n",
              "      <td>4</td>\n",
              "      <td>8</td>\n",
              "      <td>5</td>\n",
              "      <td>6</td>\n",
              "      <td>7</td>\n",
              "      <td>7</td>\n",
              "    </tr>\n",
              "    <tr>\n",
              "      <th>546</th>\n",
              "      <td>Communicator. Extreme writer. Tv nerd. Wannabe organizer. Amateur music maven. Analyst.</td>\n",
              "      <td>4</td>\n",
              "      <td>9</td>\n",
              "      <td>9</td>\n",
              "      <td>8</td>\n",
              "      <td>5</td>\n",
              "      <td>6</td>\n",
              "      <td>5</td>\n",
              "      <td>9</td>\n",
              "    </tr>\n",
              "    <tr>\n",
              "      <th>4230</th>\n",
              "      <td>Freelance travel ninja. Introvert. Gamer. Total creator. Tv geek. Thinker. Webaholic. Unapologetic alcohol fan.</td>\n",
              "      <td>5</td>\n",
              "      <td>6</td>\n",
              "      <td>2</td>\n",
              "      <td>6</td>\n",
              "      <td>6</td>\n",
              "      <td>8</td>\n",
              "      <td>5</td>\n",
              "      <td>7</td>\n",
              "    </tr>\n",
              "    <tr>\n",
              "      <th>1243</th>\n",
              "      <td>Coffee practitioner. Subtly charming alcohol scholar. Award-winning introvert. Internetaholic.</td>\n",
              "      <td>6</td>\n",
              "      <td>6</td>\n",
              "      <td>4</td>\n",
              "      <td>4</td>\n",
              "      <td>2</td>\n",
              "      <td>7</td>\n",
              "      <td>5</td>\n",
              "      <td>8</td>\n",
              "    </tr>\n",
              "    <tr>\n",
              "      <th>127</th>\n",
              "      <td>Coffee aficionado. Proud student. Explorer. Wannabe alcoholaholic. Devoted communicator.</td>\n",
              "      <td>8</td>\n",
              "      <td>7</td>\n",
              "      <td>9</td>\n",
              "      <td>9</td>\n",
              "      <td>4</td>\n",
              "      <td>7</td>\n",
              "      <td>6</td>\n",
              "      <td>5</td>\n",
              "    </tr>\n",
              "    <tr>\n",
              "      <th>3187</th>\n",
              "      <td>Analyst. Zombie lover. Devoted coffee junkie. Typical travel advocate. Food buff.</td>\n",
              "      <td>3</td>\n",
              "      <td>7</td>\n",
              "      <td>2</td>\n",
              "      <td>5</td>\n",
              "      <td>4</td>\n",
              "      <td>9</td>\n",
              "      <td>6</td>\n",
              "      <td>9</td>\n",
              "    </tr>\n",
              "    <tr>\n",
              "      <th>591</th>\n",
              "      <td>Communicator. Extreme writer. Tv nerd. Wannabe organizer. Amateur music maven. Analyst.</td>\n",
              "      <td>5</td>\n",
              "      <td>4</td>\n",
              "      <td>4</td>\n",
              "      <td>4</td>\n",
              "      <td>5</td>\n",
              "      <td>6</td>\n",
              "      <td>4</td>\n",
              "      <td>5</td>\n",
              "    </tr>\n",
              "  </tbody>\n",
              "</table>\n",
              "</div>"
            ],
            "text/plain": [
              "                                                                                                                                        Bios  ...  Social Media\n",
              "3751                    Web expert. Explorer. Amateur internet guru. Subtly charming thinker. Zombie scholar. Avid bacon nerd. Communicator.  ...             9\n",
              "3185  Freelance zombie specialist. Twitter maven. Web scholar. Evil beer ninja. Food fanatic. Gamer. Hardcore music buff. Travel aficionado.  ...             7\n",
              "1797                                        Professional entrepreneur. Unapologetic communicator. Hardcore beer aficionado. Devoted student.  ...             9\n",
              "123           Beer enthusiast. Creator. Friendly bacon ninja. Extreme gamer. Total student. Wannabe travel geek. Unapologetic tv aficionado.  ...             7\n",
              "546                                                  Communicator. Extreme writer. Tv nerd. Wannabe organizer. Amateur music maven. Analyst.  ...             9\n",
              "4230                         Freelance travel ninja. Introvert. Gamer. Total creator. Tv geek. Thinker. Webaholic. Unapologetic alcohol fan.  ...             7\n",
              "1243                                          Coffee practitioner. Subtly charming alcohol scholar. Award-winning introvert. Internetaholic.  ...             8\n",
              "127                                                 Coffee aficionado. Proud student. Explorer. Wannabe alcoholaholic. Devoted communicator.  ...             5\n",
              "3187                                                       Analyst. Zombie lover. Devoted coffee junkie. Typical travel advocate. Food buff.  ...             9\n",
              "591                                                  Communicator. Extreme writer. Tv nerd. Wannabe organizer. Amateur music maven. Analyst.  ...             5\n",
              "\n",
              "[10 rows x 9 columns]"
            ]
          },
          "metadata": {},
          "execution_count": 10
        }
      ]
    },
    {
      "cell_type": "code",
      "metadata": {
        "id": "A_qS-tGWCNIN",
        "outputId": "23568e8d-d10c-440e-ff55-c12661d326fe",
        "colab": {
          "base_uri": "https://localhost:8080/"
        }
      },
      "source": [
        "import joblib\n",
        "# save the model to disk\n",
        "filename = 'model.joblib'\n",
        "joblib.dump(model, filename)"
      ],
      "execution_count": 12,
      "outputs": [
        {
          "output_type": "execute_result",
          "data": {
            "text/plain": [
              "['model.joblib']"
            ]
          },
          "metadata": {},
          "execution_count": 12
        }
      ]
    }
  ]
}