{
  "nbformat": 4,
  "nbformat_minor": 0,
  "metadata": {
    "colab": {
      "name": "Clustering.ipynb",
      "provenance": []
    },
    "kernelspec": {
      "name": "python3",
      "display_name": "Python 3"
    },
    "language_info": {
      "name": "python"
    }
  },
  "cells": [
    {
      "cell_type": "markdown",
      "metadata": {
        "id": "piuIeHplu2GC"
      },
      "source": [
        "## Preparing Data for Clustering"
      ]
    },
    {
      "cell_type": "code",
      "metadata": {
        "id": "TOl_L32zu0Ou"
      },
      "source": [
        "# Libraries\n",
        "import pandas as pd\n",
        "pd.set_option('display.max_colwidth', 500)\n",
        "import numpy as np\n",
        "import matplotlib.pyplot as plt\n",
        "import seaborn as sns\n",
        "import _pickle as pickle\n",
        "from sklearn.feature_extraction.text import TfidfVectorizer, CountVectorizer\n",
        "from sklearn.cluster import KMeans, AgglomerativeClustering\n",
        "from sklearn.metrics import silhouette_score, davies_bouldin_score\n",
        "from sklearn.preprocessing import MinMaxScaler\n",
        "\n",
        "# Loading in the cleaned DF\n",
        "with open(\"./numuser_data.pkl\",'rb') as fp:\n",
        "    df = pickle.load(fp)"
      ],
      "execution_count": 5,
      "outputs": []
    },
    {
      "cell_type": "code",
      "metadata": {
        "id": "0Ip4Tlw8-Umh",
        "colab": {
          "base_uri": "https://localhost:8080/",
          "height": 669
        },
        "outputId": "2a32dea2-e8d2-4584-82df-a3c47289b5ea"
      },
      "source": [
        "# Instantiating the Scaler\n",
        "scaler = MinMaxScaler()\n",
        "\n",
        "# Scaling the categories then replacing the old values\n",
        "df = df[['Bios']].join(pd.DataFrame(scaler.fit_transform(df.drop('Bios', axis=1)), columns=df.columns[1:], index=df.index))\n",
        "df"
      ],
      "execution_count": 6,
      "outputs": [
        {
          "output_type": "execute_result",
          "data": {
            "text/html": [
              "<div>\n",
              "<style scoped>\n",
              "    .dataframe tbody tr th:only-of-type {\n",
              "        vertical-align: middle;\n",
              "    }\n",
              "\n",
              "    .dataframe tbody tr th {\n",
              "        vertical-align: top;\n",
              "    }\n",
              "\n",
              "    .dataframe thead th {\n",
              "        text-align: right;\n",
              "    }\n",
              "</style>\n",
              "<table border=\"1\" class=\"dataframe\">\n",
              "  <thead>\n",
              "    <tr style=\"text-align: right;\">\n",
              "      <th></th>\n",
              "      <th>Bios</th>\n",
              "      <th>Location</th>\n",
              "      <th>Interested in</th>\n",
              "      <th>Age</th>\n",
              "      <th>Movies</th>\n",
              "      <th>Music</th>\n",
              "      <th>Sports</th>\n",
              "      <th>Politics</th>\n",
              "      <th>Social Media</th>\n",
              "    </tr>\n",
              "  </thead>\n",
              "  <tbody>\n",
              "    <tr>\n",
              "      <th>0</th>\n",
              "      <td>Social media geek. Freelance alcohol aficionado. Professional internet specialist. Avid writer.</td>\n",
              "      <td>0.444444</td>\n",
              "      <td>0.000000</td>\n",
              "      <td>0.222222</td>\n",
              "      <td>1.000000</td>\n",
              "      <td>0.555556</td>\n",
              "      <td>0.555556</td>\n",
              "      <td>0.000000</td>\n",
              "      <td>0.888889</td>\n",
              "    </tr>\n",
              "    <tr>\n",
              "      <th>1</th>\n",
              "      <td>Explorer. Incurable social media evangelist. Problem solver. Freelance pop culture junkie.</td>\n",
              "      <td>1.000000</td>\n",
              "      <td>0.111111</td>\n",
              "      <td>0.444444</td>\n",
              "      <td>1.000000</td>\n",
              "      <td>0.222222</td>\n",
              "      <td>0.000000</td>\n",
              "      <td>1.000000</td>\n",
              "      <td>0.555556</td>\n",
              "    </tr>\n",
              "    <tr>\n",
              "      <th>2</th>\n",
              "      <td>Friendly social media nerd. Beer guru. Future teen idol. Pop culture fanatic. Zombie enthusiast.</td>\n",
              "      <td>0.444444</td>\n",
              "      <td>0.333333</td>\n",
              "      <td>0.888889</td>\n",
              "      <td>1.000000</td>\n",
              "      <td>0.222222</td>\n",
              "      <td>0.888889</td>\n",
              "      <td>0.222222</td>\n",
              "      <td>1.000000</td>\n",
              "    </tr>\n",
              "    <tr>\n",
              "      <th>3</th>\n",
              "      <td>Beer enthusiast. Creator. Friendly bacon ninja. Extreme gamer. Total student. Wannabe travel geek. Unapologetic tv aficionado.</td>\n",
              "      <td>0.111111</td>\n",
              "      <td>0.888889</td>\n",
              "      <td>0.222222</td>\n",
              "      <td>0.777778</td>\n",
              "      <td>0.111111</td>\n",
              "      <td>1.000000</td>\n",
              "      <td>0.888889</td>\n",
              "      <td>0.888889</td>\n",
              "    </tr>\n",
              "    <tr>\n",
              "      <th>4</th>\n",
              "      <td>Lifelong communicator. Pop culture fanatic. Web fanatic. Proud creator. Reader. Certified writer.</td>\n",
              "      <td>0.222222</td>\n",
              "      <td>0.555556</td>\n",
              "      <td>0.111111</td>\n",
              "      <td>0.111111</td>\n",
              "      <td>0.555556</td>\n",
              "      <td>0.555556</td>\n",
              "      <td>0.000000</td>\n",
              "      <td>0.111111</td>\n",
              "    </tr>\n",
              "    <tr>\n",
              "      <th>...</th>\n",
              "      <td>...</td>\n",
              "      <td>...</td>\n",
              "      <td>...</td>\n",
              "      <td>...</td>\n",
              "      <td>...</td>\n",
              "      <td>...</td>\n",
              "      <td>...</td>\n",
              "      <td>...</td>\n",
              "      <td>...</td>\n",
              "    </tr>\n",
              "    <tr>\n",
              "      <th>4735</th>\n",
              "      <td>Total entrepreneur. Internet buff. Freelance beer ninja. Amateur student. Twitter maven. Tv specialist. General travel advocate. Coffee practitioner.</td>\n",
              "      <td>0.555556</td>\n",
              "      <td>0.000000</td>\n",
              "      <td>0.333333</td>\n",
              "      <td>0.000000</td>\n",
              "      <td>0.111111</td>\n",
              "      <td>0.111111</td>\n",
              "      <td>1.000000</td>\n",
              "      <td>0.444444</td>\n",
              "    </tr>\n",
              "    <tr>\n",
              "      <th>4736</th>\n",
              "      <td>Award-winning organizer. Future teen idol. Subtly charming creator. Music maven. Typical food junkie. Falls down a lot. Alcohol specialist.</td>\n",
              "      <td>0.000000</td>\n",
              "      <td>0.111111</td>\n",
              "      <td>0.666667</td>\n",
              "      <td>0.222222</td>\n",
              "      <td>0.333333</td>\n",
              "      <td>0.666667</td>\n",
              "      <td>0.222222</td>\n",
              "      <td>0.333333</td>\n",
              "    </tr>\n",
              "    <tr>\n",
              "      <th>4737</th>\n",
              "      <td>Entrepreneur. Coffee fanatic. Bacon nerd. Communicator. Prone to fits of apathy. Unapologetic zombie guru. Travel scholar. Writer.</td>\n",
              "      <td>0.666667</td>\n",
              "      <td>0.777778</td>\n",
              "      <td>0.555556</td>\n",
              "      <td>0.444444</td>\n",
              "      <td>0.555556</td>\n",
              "      <td>0.777778</td>\n",
              "      <td>0.777778</td>\n",
              "      <td>0.888889</td>\n",
              "    </tr>\n",
              "    <tr>\n",
              "      <th>4738</th>\n",
              "      <td>Certified explorer. Travel trailblazer. Friend of animals everywhere. Incurable alcohol enthusiast.</td>\n",
              "      <td>0.000000</td>\n",
              "      <td>0.777778</td>\n",
              "      <td>0.777778</td>\n",
              "      <td>0.444444</td>\n",
              "      <td>0.333333</td>\n",
              "      <td>0.222222</td>\n",
              "      <td>0.111111</td>\n",
              "      <td>0.666667</td>\n",
              "    </tr>\n",
              "    <tr>\n",
              "      <th>4739</th>\n",
              "      <td>Explorer. Amateur food evangelist. Passionate tv fan. Typical social mediaholic. Beer fanatic.</td>\n",
              "      <td>0.888889</td>\n",
              "      <td>0.888889</td>\n",
              "      <td>0.666667</td>\n",
              "      <td>0.000000</td>\n",
              "      <td>0.888889</td>\n",
              "      <td>0.333333</td>\n",
              "      <td>0.888889</td>\n",
              "      <td>0.888889</td>\n",
              "    </tr>\n",
              "  </tbody>\n",
              "</table>\n",
              "<p>4740 rows × 9 columns</p>\n",
              "</div>"
            ],
            "text/plain": [
              "                                                                                                                                                       Bios  ...  Social Media\n",
              "0                                                           Social media geek. Freelance alcohol aficionado. Professional internet specialist. Avid writer.  ...      0.888889\n",
              "1                                                                Explorer. Incurable social media evangelist. Problem solver. Freelance pop culture junkie.  ...      0.555556\n",
              "2                                                          Friendly social media nerd. Beer guru. Future teen idol. Pop culture fanatic. Zombie enthusiast.  ...      1.000000\n",
              "3                            Beer enthusiast. Creator. Friendly bacon ninja. Extreme gamer. Total student. Wannabe travel geek. Unapologetic tv aficionado.  ...      0.888889\n",
              "4                                                         Lifelong communicator. Pop culture fanatic. Web fanatic. Proud creator. Reader. Certified writer.  ...      0.111111\n",
              "...                                                                                                                                                     ...  ...           ...\n",
              "4735  Total entrepreneur. Internet buff. Freelance beer ninja. Amateur student. Twitter maven. Tv specialist. General travel advocate. Coffee practitioner.  ...      0.444444\n",
              "4736            Award-winning organizer. Future teen idol. Subtly charming creator. Music maven. Typical food junkie. Falls down a lot. Alcohol specialist.  ...      0.333333\n",
              "4737                     Entrepreneur. Coffee fanatic. Bacon nerd. Communicator. Prone to fits of apathy. Unapologetic zombie guru. Travel scholar. Writer.  ...      0.888889\n",
              "4738                                                    Certified explorer. Travel trailblazer. Friend of animals everywhere. Incurable alcohol enthusiast.  ...      0.666667\n",
              "4739                                                         Explorer. Amateur food evangelist. Passionate tv fan. Typical social mediaholic. Beer fanatic.  ...      0.888889\n",
              "\n",
              "[4740 rows x 9 columns]"
            ]
          },
          "metadata": {},
          "execution_count": 6
        }
      ]
    },
    {
      "cell_type": "markdown",
      "metadata": {
        "id": "EbBILtr9viF3"
      },
      "source": [
        "## Vectorizing the Bios\n",
        "Experimenting with two vectorisation approaches, namely, Count Vectorization and TFIDF Vectorization"
      ]
    },
    {
      "cell_type": "code",
      "metadata": {
        "id": "W1Lr3yeGvVWe"
      },
      "source": [
        "# Instantiating the Vectorizer, experimenting with both\n",
        "vectorizer = CountVectorizer()\n",
        "#vectorizer = TfidfVectorizer()\n",
        "\n",
        "# Fitting the vectorizer to the Bios\n",
        "x = vectorizer.fit_transform(df['Bios'])\n",
        "\n",
        "# Creating a new DF that contains the vectorized words\n",
        "df_wrds = pd.DataFrame(x.toarray(), columns=vectorizer.get_feature_names())\n",
        "\n",
        "# Concating the words DF with the original DF\n",
        "newer_df = pd.concat([df, df_wrds], axis=1)\n",
        "\n",
        "# Dropping the Bios because it is no longer needed in place of vectorization\n",
        "newer_df.drop('Bios', axis=1, inplace=True)"
      ],
      "execution_count": 7,
      "outputs": []
    },
    {
      "cell_type": "code",
      "metadata": {
        "id": "FZ2zcl46yV8Z"
      },
      "source": [
        "# unpickled_df = pd.read_pickle(\"./user_data.pkl\")\n",
        "#unpickled_df.location = unpickled_df.location.astype(float)\n",
        "# unpickled_df"
      ],
      "execution_count": null,
      "outputs": []
    },
    {
      "cell_type": "markdown",
      "metadata": {
        "id": "XsXpw8JWw7IV"
      },
      "source": [
        "## Principle Component Ananlysis on DF"
      ]
    },
    {
      "cell_type": "code",
      "metadata": {
        "id": "VhAha0m-9z4-",
        "colab": {
          "base_uri": "https://localhost:8080/",
          "height": 313
        },
        "outputId": "0d80eb36-f8a6-48a3-c5be-4b179987c497"
      },
      "source": [
        "# Importing the library\n",
        "from sklearn.decomposition import PCA\n",
        "\n",
        "# Instantiating PCA\n",
        "pca = PCA()\n",
        "\n",
        "# Fitting and Transforming the DF\n",
        "df_pca = pca.fit_transform(newer_df)\n",
        "\n",
        "# Plotting to determine how many features should the dataset be reduced to\n",
        "plt.style.use(\"bmh\")\n",
        "plt.figure(figsize=(14,4))\n",
        "plt.plot(range(1,newer_df.shape[1]+1), pca.explained_variance_ratio_.cumsum())\n",
        "plt.show()\n",
        "\n",
        "# Finding the exact number of features that explain at least 95% of the variance in the dataset\n",
        "total_explained_variance = pca.explained_variance_ratio_.cumsum()\n",
        "n_over_95 = len(total_explained_variance[total_explained_variance>=.95])\n",
        "n_to_reach_95 = newer_df.shape[1] - n_over_95\n",
        "\n",
        "# Printing out the number of features needed to retain 95% variance\n",
        "print(f\"Number features: {n_to_reach_95}\\nTotal Variance Explained: {total_explained_variance[n_to_reach_95]}\")\n",
        "\n",
        "# Reducing the dataset to the number of features determined before\n",
        "pca = PCA(n_components=n_to_reach_95)\n",
        "\n",
        "# Fitting and transforming the dataset to the stated number of features and creating a new DF\n",
        "df_pca = pca.fit_transform(newer_df)\n",
        "\n",
        "# Seeing the variance ratio that still remains after the dataset has been reduced\n",
        "print(pca.explained_variance_ratio_.cumsum()[-1])"
      ],
      "execution_count": 12,
      "outputs": [
        {
          "output_type": "display_data",
          "data": {
            "image/png": "[encoded data removed]",
            "text/plain": [
              "<Figure size 1008x288 with 1 Axes>"
            ]
          },
          "metadata": {
            "needs_background": "light"
          }
        },
        {
          "output_type": "stream",
          "name": "stdout",
          "text": [
            "Number features: 71\n",
            "Total Variance Explained: 0.9514987651415916\n",
            "0.946671199931746\n"
          ]
        }
      ]
    },
    {
      "cell_type": "markdown",
      "metadata": {
        "id": "6Kswm-62_LeB"
      },
      "source": [
        "## Clustering the User Profiles"
      ]
    },
    {
      "cell_type": "markdown",
      "metadata": {
        "id": "trT_P18-_QNp"
      },
      "source": [
        "### Finding the Right Number of Clusters"
      ]
    },
    {
      "cell_type": "code",
      "metadata": {
        "id": "7JKc0PNG90F3"
      },
      "source": [
        "# Setting the amount of clusters to test out\n",
        "cluster_cnt = [i for i in range(2, 20, 1)]\n",
        "\n",
        "# Establishing empty lists to store the scores for the evaluation metrics\n",
        "s_scores = []\n",
        "\n",
        "db_scores = []\n",
        "\n",
        "# Looping through different iterations for the number of clusters\n",
        "for i in cluster_cnt:\n",
        "    \n",
        "    # Hierarchical Agglomerative Clustering with different number of clusters\n",
        "    hac = AgglomerativeClustering(n_clusters=i)\n",
        "    \n",
        "    hac.fit(df_pca)\n",
        "    \n",
        "    cluster_assignments = hac.labels_\n",
        "    \n",
        "    ## KMeans Clustering with different number of clusters\n",
        "    #k_means = KMeans(n_clusters=i)\n",
        "    \n",
        "    #k_means.fit(df_pca)\n",
        "    \n",
        "    #cluster_assignments = k_means.predict(df_pca)\n",
        "    \n",
        "    # Appending the scores to the empty lists    \n",
        "    s_scores.append(silhouette_score(df_pca, cluster_assignments))\n",
        "    \n",
        "    db_scores.append(davies_bouldin_score(df_pca, cluster_assignments))"
      ],
      "execution_count": 13,
      "outputs": []
    },
    {
      "cell_type": "markdown",
      "metadata": {
        "id": "Tfyzgr1BAYMz"
      },
      "source": [
        "### Evaluating Clusters"
      ]
    },
    {
      "cell_type": "code",
      "metadata": {
        "id": "6DgKBFj3vVd9",
        "colab": {
          "base_uri": "https://localhost:8080/",
          "height": 1000
        },
        "outputId": "57f4ca10-b308-42dd-f261-36a84d5a3367"
      },
      "source": [
        "def plot_evaluation(y, x=cluster_cnt):\n",
        "    \"\"\"\n",
        "    Plots the scores of a set evaluation metric. Prints out the max and min values of the evaluation scores.\n",
        "    \"\"\"\n",
        "    \n",
        "    # Creating a DataFrame for returning the max and min scores for each cluster\n",
        "    df = pd.DataFrame(columns=['Cluster Score'], index=[i for i in range(2, len(y)+2)])\n",
        "    df['Cluster Score'] = y\n",
        "    \n",
        "    print('Max Value:\\nCluster #', df[df['Cluster Score']==df['Cluster Score'].max()])\n",
        "    print('\\nMin Value:\\nCluster #', df[df['Cluster Score']==df['Cluster Score'].min()])\n",
        "    \n",
        "    # Plotting out the scores based on cluster count\n",
        "    plt.figure(figsize=(16,6))\n",
        "    plt.style.use('ggplot')\n",
        "    plt.plot(x,y)\n",
        "    plt.xlabel('# of Clusters')\n",
        "    plt.ylabel('Score')\n",
        "    plt.show()\n",
        "    \n",
        "# Running the function on the list of scores\n",
        "plot_evaluation(s_scores)\n",
        "\n",
        "plot_evaluation(db_scores)"
      ],
      "execution_count": 14,
      "outputs": [
        {
          "output_type": "stream",
          "name": "stdout",
          "text": [
            "Max Value:\n",
            "Cluster #     Cluster Score\n",
            "19       0.056621\n",
            "\n",
            "Min Value:\n",
            "Cluster #    Cluster Score\n",
            "5       0.025382\n"
          ]
        },
        {
          "output_type": "display_data",
          "data": {
            "image/png": "[encoded data removed]",
            "text/plain": [
              "<Figure size 1152x432 with 1 Axes>"
            ]
          },
          "metadata": {
            "needs_background": "light"
          }
        },
        {
          "output_type": "stream",
          "name": "stdout",
          "text": [
            "Max Value:\n",
            "Cluster #    Cluster Score\n",
            "3       5.136042\n",
            "\n",
            "Min Value:\n",
            "Cluster #     Cluster Score\n",
            "19       3.480365\n"
          ]
        },
        {
          "output_type": "display_data",
          "data": {
            "image/png": "[encoded data removed]",
            "text/plain": [
              "<Figure size 1152x432 with 1 Axes>"
            ]
          },
          "metadata": {}
        }
      ]
    },
    {
      "cell_type": "markdown",
      "metadata": {
        "id": "UDrK-KJEAE5s"
      },
      "source": [
        "### Final Clustering Algorithm"
      ]
    },
    {
      "cell_type": "code",
      "metadata": {
        "id": "dtbMHxFrvVpK",
        "colab": {
          "base_uri": "https://localhost:8080/",
          "height": 652
        },
        "outputId": "08ed5b1a-c4ae-4149-a91b-9b89abcec603"
      },
      "source": [
        "# Instantiating HAC\n",
        "hac = AgglomerativeClustering(n_clusters=12)\n",
        "\n",
        "# Fitting\n",
        "hac.fit(df_pca)\n",
        "\n",
        "# Getting cluster assignments\n",
        "cluster_assignments = hac.labels_\n",
        "\n",
        "# Unscaling the categories then replacing the scaled values\n",
        "df = df[['Bios']].join(pd.DataFrame(scaler.inverse_transform(df.drop('Bios', axis=1)), columns=df.columns[1:], index=df.index))\n",
        "\n",
        "# Assigning the clusters to each profile\n",
        "df['Cluster #'] = cluster_assignments\n",
        "\n",
        "# Viewing the profiles with cluster assignments\n",
        "df"
      ],
      "execution_count": 15,
      "outputs": [
        {
          "output_type": "execute_result",
          "data": {
            "text/html": [
              "<div>\n",
              "<style scoped>\n",
              "    .dataframe tbody tr th:only-of-type {\n",
              "        vertical-align: middle;\n",
              "    }\n",
              "\n",
              "    .dataframe tbody tr th {\n",
              "        vertical-align: top;\n",
              "    }\n",
              "\n",
              "    .dataframe thead th {\n",
              "        text-align: right;\n",
              "    }\n",
              "</style>\n",
              "<table border=\"1\" class=\"dataframe\">\n",
              "  <thead>\n",
              "    <tr style=\"text-align: right;\">\n",
              "      <th></th>\n",
              "      <th>Bios</th>\n",
              "      <th>Location</th>\n",
              "      <th>Interested in</th>\n",
              "      <th>Age</th>\n",
              "      <th>Movies</th>\n",
              "      <th>Music</th>\n",
              "      <th>Sports</th>\n",
              "      <th>Politics</th>\n",
              "      <th>Social Media</th>\n",
              "      <th>Cluster #</th>\n",
              "    </tr>\n",
              "  </thead>\n",
              "  <tbody>\n",
              "    <tr>\n",
              "      <th>0</th>\n",
              "      <td>Social media geek. Freelance alcohol aficionado. Professional internet specialist. Avid writer.</td>\n",
              "      <td>4.0</td>\n",
              "      <td>0.0</td>\n",
              "      <td>2.0</td>\n",
              "      <td>9.0</td>\n",
              "      <td>5.0</td>\n",
              "      <td>5.0</td>\n",
              "      <td>0.0</td>\n",
              "      <td>8.0</td>\n",
              "      <td>8</td>\n",
              "    </tr>\n",
              "    <tr>\n",
              "      <th>1</th>\n",
              "      <td>Explorer. Incurable social media evangelist. Problem solver. Freelance pop culture junkie.</td>\n",
              "      <td>9.0</td>\n",
              "      <td>1.0</td>\n",
              "      <td>4.0</td>\n",
              "      <td>9.0</td>\n",
              "      <td>2.0</td>\n",
              "      <td>0.0</td>\n",
              "      <td>9.0</td>\n",
              "      <td>5.0</td>\n",
              "      <td>4</td>\n",
              "    </tr>\n",
              "    <tr>\n",
              "      <th>2</th>\n",
              "      <td>Friendly social media nerd. Beer guru. Future teen idol. Pop culture fanatic. Zombie enthusiast.</td>\n",
              "      <td>4.0</td>\n",
              "      <td>3.0</td>\n",
              "      <td>8.0</td>\n",
              "      <td>9.0</td>\n",
              "      <td>2.0</td>\n",
              "      <td>8.0</td>\n",
              "      <td>2.0</td>\n",
              "      <td>9.0</td>\n",
              "      <td>4</td>\n",
              "    </tr>\n",
              "    <tr>\n",
              "      <th>3</th>\n",
              "      <td>Beer enthusiast. Creator. Friendly bacon ninja. Extreme gamer. Total student. Wannabe travel geek. Unapologetic tv aficionado.</td>\n",
              "      <td>1.0</td>\n",
              "      <td>8.0</td>\n",
              "      <td>2.0</td>\n",
              "      <td>7.0</td>\n",
              "      <td>1.0</td>\n",
              "      <td>9.0</td>\n",
              "      <td>8.0</td>\n",
              "      <td>8.0</td>\n",
              "      <td>0</td>\n",
              "    </tr>\n",
              "    <tr>\n",
              "      <th>4</th>\n",
              "      <td>Lifelong communicator. Pop culture fanatic. Web fanatic. Proud creator. Reader. Certified writer.</td>\n",
              "      <td>2.0</td>\n",
              "      <td>5.0</td>\n",
              "      <td>1.0</td>\n",
              "      <td>1.0</td>\n",
              "      <td>5.0</td>\n",
              "      <td>5.0</td>\n",
              "      <td>0.0</td>\n",
              "      <td>1.0</td>\n",
              "      <td>2</td>\n",
              "    </tr>\n",
              "    <tr>\n",
              "      <th>...</th>\n",
              "      <td>...</td>\n",
              "      <td>...</td>\n",
              "      <td>...</td>\n",
              "      <td>...</td>\n",
              "      <td>...</td>\n",
              "      <td>...</td>\n",
              "      <td>...</td>\n",
              "      <td>...</td>\n",
              "      <td>...</td>\n",
              "      <td>...</td>\n",
              "    </tr>\n",
              "    <tr>\n",
              "      <th>4735</th>\n",
              "      <td>Total entrepreneur. Internet buff. Freelance beer ninja. Amateur student. Twitter maven. Tv specialist. General travel advocate. Coffee practitioner.</td>\n",
              "      <td>5.0</td>\n",
              "      <td>0.0</td>\n",
              "      <td>3.0</td>\n",
              "      <td>0.0</td>\n",
              "      <td>1.0</td>\n",
              "      <td>1.0</td>\n",
              "      <td>9.0</td>\n",
              "      <td>4.0</td>\n",
              "      <td>1</td>\n",
              "    </tr>\n",
              "    <tr>\n",
              "      <th>4736</th>\n",
              "      <td>Award-winning organizer. Future teen idol. Subtly charming creator. Music maven. Typical food junkie. Falls down a lot. Alcohol specialist.</td>\n",
              "      <td>0.0</td>\n",
              "      <td>1.0</td>\n",
              "      <td>6.0</td>\n",
              "      <td>2.0</td>\n",
              "      <td>3.0</td>\n",
              "      <td>6.0</td>\n",
              "      <td>2.0</td>\n",
              "      <td>3.0</td>\n",
              "      <td>0</td>\n",
              "    </tr>\n",
              "    <tr>\n",
              "      <th>4737</th>\n",
              "      <td>Entrepreneur. Coffee fanatic. Bacon nerd. Communicator. Prone to fits of apathy. Unapologetic zombie guru. Travel scholar. Writer.</td>\n",
              "      <td>6.0</td>\n",
              "      <td>7.0</td>\n",
              "      <td>5.0</td>\n",
              "      <td>4.0</td>\n",
              "      <td>5.0</td>\n",
              "      <td>7.0</td>\n",
              "      <td>7.0</td>\n",
              "      <td>8.0</td>\n",
              "      <td>10</td>\n",
              "    </tr>\n",
              "    <tr>\n",
              "      <th>4738</th>\n",
              "      <td>Certified explorer. Travel trailblazer. Friend of animals everywhere. Incurable alcohol enthusiast.</td>\n",
              "      <td>0.0</td>\n",
              "      <td>7.0</td>\n",
              "      <td>7.0</td>\n",
              "      <td>4.0</td>\n",
              "      <td>3.0</td>\n",
              "      <td>2.0</td>\n",
              "      <td>1.0</td>\n",
              "      <td>6.0</td>\n",
              "      <td>11</td>\n",
              "    </tr>\n",
              "    <tr>\n",
              "      <th>4739</th>\n",
              "      <td>Explorer. Amateur food evangelist. Passionate tv fan. Typical social mediaholic. Beer fanatic.</td>\n",
              "      <td>8.0</td>\n",
              "      <td>8.0</td>\n",
              "      <td>6.0</td>\n",
              "      <td>0.0</td>\n",
              "      <td>8.0</td>\n",
              "      <td>3.0</td>\n",
              "      <td>8.0</td>\n",
              "      <td>8.0</td>\n",
              "      <td>2</td>\n",
              "    </tr>\n",
              "  </tbody>\n",
              "</table>\n",
              "<p>4740 rows × 10 columns</p>\n",
              "</div>"
            ],
            "text/plain": [
              "                                                                                                                                                       Bios  ...  Cluster #\n",
              "0                                                           Social media geek. Freelance alcohol aficionado. Professional internet specialist. Avid writer.  ...          8\n",
              "1                                                                Explorer. Incurable social media evangelist. Problem solver. Freelance pop culture junkie.  ...          4\n",
              "2                                                          Friendly social media nerd. Beer guru. Future teen idol. Pop culture fanatic. Zombie enthusiast.  ...          4\n",
              "3                            Beer enthusiast. Creator. Friendly bacon ninja. Extreme gamer. Total student. Wannabe travel geek. Unapologetic tv aficionado.  ...          0\n",
              "4                                                         Lifelong communicator. Pop culture fanatic. Web fanatic. Proud creator. Reader. Certified writer.  ...          2\n",
              "...                                                                                                                                                     ...  ...        ...\n",
              "4735  Total entrepreneur. Internet buff. Freelance beer ninja. Amateur student. Twitter maven. Tv specialist. General travel advocate. Coffee practitioner.  ...          1\n",
              "4736            Award-winning organizer. Future teen idol. Subtly charming creator. Music maven. Typical food junkie. Falls down a lot. Alcohol specialist.  ...          0\n",
              "4737                     Entrepreneur. Coffee fanatic. Bacon nerd. Communicator. Prone to fits of apathy. Unapologetic zombie guru. Travel scholar. Writer.  ...         10\n",
              "4738                                                    Certified explorer. Travel trailblazer. Friend of animals everywhere. Incurable alcohol enthusiast.  ...         11\n",
              "4739                                                         Explorer. Amateur food evangelist. Passionate tv fan. Typical social mediaholic. Beer fanatic.  ...          2\n",
              "\n",
              "[4740 rows x 10 columns]"
            ]
          },
          "metadata": {},
          "execution_count": 15
        }
      ]
    },
    {
      "cell_type": "code",
      "metadata": {
        "id": "uK346TJ8_8Lf"
      },
      "source": [
        ""
      ],
      "execution_count": null,
      "outputs": []
    },
    {
      "cell_type": "code",
      "metadata": {
        "id": "U1JAoJpZ_8Vj"
      },
      "source": [
        ""
      ],
      "execution_count": null,
      "outputs": []
    },
    {
      "cell_type": "code",
      "metadata": {
        "id": "v4aoGYAF_8di"
      },
      "source": [
        ""
      ],
      "execution_count": null,
      "outputs": []
    }
  ]
}