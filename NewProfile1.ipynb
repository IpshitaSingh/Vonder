{
  "nbformat": 4,
  "nbformat_minor": 0,
  "metadata": {
    "colab": {
      "name": "NewProfile.ipynb",
      "provenance": [],
      "collapsed_sections": [],
      "authorship_tag": "ABX9TyO0vvTYUX8yJMx5zI8X6lI0",
      "include_colab_link": true
    },
    "kernelspec": {
      "name": "python3",
      "display_name": "Python 3"
    },
    "language_info": {
      "name": "python"
    },
    "widgets": {
      "application/vnd.jupyter.widget-state+json": {
        "6d0799e679b64de99180e4c74cb62d26": {
          "model_module": "@jupyter-widgets/controls",
          "model_name": "HBoxModel",
          "model_module_version": "1.5.0",
          "state": {
            "_view_name": "HBoxView",
            "_dom_classes": [],
            "_model_name": "HBoxModel",
            "_view_module": "@jupyter-widgets/controls",
            "_model_module_version": "1.5.0",
            "_view_count": null,
            "_view_module_version": "1.5.0",
            "box_style": "",
            "layout": "IPY_MODEL_99fdeb6b10264d5281dd7214b21fba2c",
            "_model_module": "@jupyter-widgets/controls",
            "children": [
              "IPY_MODEL_a17f6e7a5f37422b996a20851c0d665b",
              "IPY_MODEL_b5bc96fc9c674313b8b949fe75aceca8",
              "IPY_MODEL_a4d3a34cac5b4bc5ac1054eba90999c6"
            ]
          }
        },
        "99fdeb6b10264d5281dd7214b21fba2c": {
          "model_module": "@jupyter-widgets/base",
          "model_name": "LayoutModel",
          "model_module_version": "1.2.0",
          "state": {
            "_view_name": "LayoutView",
            "grid_template_rows": null,
            "right": null,
            "justify_content": null,
            "_view_module": "@jupyter-widgets/base",
            "overflow": null,
            "_model_module_version": "1.2.0",
            "_view_count": null,
            "flex_flow": null,
            "width": null,
            "min_width": null,
            "border": null,
            "align_items": null,
            "bottom": null,
            "_model_module": "@jupyter-widgets/base",
            "top": null,
            "grid_column": null,
            "overflow_y": null,
            "overflow_x": null,
            "grid_auto_flow": null,
            "grid_area": null,
            "grid_template_columns": null,
            "flex": null,
            "_model_name": "LayoutModel",
            "justify_items": null,
            "grid_row": null,
            "max_height": null,
            "align_content": null,
            "visibility": null,
            "align_self": null,
            "height": null,
            "min_height": null,
            "padding": null,
            "grid_auto_rows": null,
            "grid_gap": null,
            "max_width": null,
            "order": null,
            "_view_module_version": "1.2.0",
            "grid_template_areas": null,
            "object_position": null,
            "object_fit": null,
            "grid_auto_columns": null,
            "margin": null,
            "display": null,
            "left": null
          }
        },
        "a17f6e7a5f37422b996a20851c0d665b": {
          "model_module": "@jupyter-widgets/controls",
          "model_name": "HTMLModel",
          "model_module_version": "1.5.0",
          "state": {
            "_view_name": "HTMLView",
            "style": "IPY_MODEL_c4aa92b70a2042b8a90c07ab98b398a4",
            "_dom_classes": [],
            "description": "",
            "_model_name": "HTMLModel",
            "placeholder": "​",
            "_view_module": "@jupyter-widgets/controls",
            "_model_module_version": "1.5.0",
            "value": "100%",
            "_view_count": null,
            "_view_module_version": "1.5.0",
            "description_tooltip": null,
            "_model_module": "@jupyter-widgets/controls",
            "layout": "IPY_MODEL_46cbe0523e644879826abae2819b475e"
          }
        },
        "b5bc96fc9c674313b8b949fe75aceca8": {
          "model_module": "@jupyter-widgets/controls",
          "model_name": "FloatProgressModel",
          "model_module_version": "1.5.0",
          "state": {
            "_view_name": "ProgressView",
            "style": "IPY_MODEL_2913198140ff4552b886569bcc921884",
            "_dom_classes": [],
            "description": "",
            "_model_name": "FloatProgressModel",
            "bar_style": "success",
            "max": 18,
            "_view_module": "@jupyter-widgets/controls",
            "_model_module_version": "1.5.0",
            "value": 18,
            "_view_count": null,
            "_view_module_version": "1.5.0",
            "orientation": "horizontal",
            "min": 0,
            "description_tooltip": null,
            "_model_module": "@jupyter-widgets/controls",
            "layout": "IPY_MODEL_b100b0febadc47d184e05c1d4ade608f"
          }
        },
        "a4d3a34cac5b4bc5ac1054eba90999c6": {
          "model_module": "@jupyter-widgets/controls",
          "model_name": "HTMLModel",
          "model_module_version": "1.5.0",
          "state": {
            "_view_name": "HTMLView",
            "style": "IPY_MODEL_04a7ad2bef1844f69b86db2e9983fcbb",
            "_dom_classes": [],
            "description": "",
            "_model_name": "HTMLModel",
            "placeholder": "​",
            "_view_module": "@jupyter-widgets/controls",
            "_model_module_version": "1.5.0",
            "value": " 18/18 [00:33&lt;00:00,  1.85s/it]",
            "_view_count": null,
            "_view_module_version": "1.5.0",
            "description_tooltip": null,
            "_model_module": "@jupyter-widgets/controls",
            "layout": "IPY_MODEL_fcddc881cdd94bf8bd7ce442467fe74d"
          }
        },
        "c4aa92b70a2042b8a90c07ab98b398a4": {
          "model_module": "@jupyter-widgets/controls",
          "model_name": "DescriptionStyleModel",
          "model_module_version": "1.5.0",
          "state": {
            "_view_name": "StyleView",
            "_model_name": "DescriptionStyleModel",
            "description_width": "",
            "_view_module": "@jupyter-widgets/base",
            "_model_module_version": "1.5.0",
            "_view_count": null,
            "_view_module_version": "1.2.0",
            "_model_module": "@jupyter-widgets/controls"
          }
        },
        "46cbe0523e644879826abae2819b475e": {
          "model_module": "@jupyter-widgets/base",
          "model_name": "LayoutModel",
          "model_module_version": "1.2.0",
          "state": {
            "_view_name": "LayoutView",
            "grid_template_rows": null,
            "right": null,
            "justify_content": null,
            "_view_module": "@jupyter-widgets/base",
            "overflow": null,
            "_model_module_version": "1.2.0",
            "_view_count": null,
            "flex_flow": null,
            "width": null,
            "min_width": null,
            "border": null,
            "align_items": null,
            "bottom": null,
            "_model_module": "@jupyter-widgets/base",
            "top": null,
            "grid_column": null,
            "overflow_y": null,
            "overflow_x": null,
            "grid_auto_flow": null,
            "grid_area": null,
            "grid_template_columns": null,
            "flex": null,
            "_model_name": "LayoutModel",
            "justify_items": null,
            "grid_row": null,
            "max_height": null,
            "align_content": null,
            "visibility": null,
            "align_self": null,
            "height": null,
            "min_height": null,
            "padding": null,
            "grid_auto_rows": null,
            "grid_gap": null,
            "max_width": null,
            "order": null,
            "_view_module_version": "1.2.0",
            "grid_template_areas": null,
            "object_position": null,
            "object_fit": null,
            "grid_auto_columns": null,
            "margin": null,
            "display": null,
            "left": null
          }
        },
        "2913198140ff4552b886569bcc921884": {
          "model_module": "@jupyter-widgets/controls",
          "model_name": "ProgressStyleModel",
          "model_module_version": "1.5.0",
          "state": {
            "_view_name": "StyleView",
            "_model_name": "ProgressStyleModel",
            "description_width": "",
            "_view_module": "@jupyter-widgets/base",
            "_model_module_version": "1.5.0",
            "_view_count": null,
            "_view_module_version": "1.2.0",
            "bar_color": null,
            "_model_module": "@jupyter-widgets/controls"
          }
        },
        "b100b0febadc47d184e05c1d4ade608f": {
          "model_module": "@jupyter-widgets/base",
          "model_name": "LayoutModel",
          "model_module_version": "1.2.0",
          "state": {
            "_view_name": "LayoutView",
            "grid_template_rows": null,
            "right": null,
            "justify_content": null,
            "_view_module": "@jupyter-widgets/base",
            "overflow": null,
            "_model_module_version": "1.2.0",
            "_view_count": null,
            "flex_flow": null,
            "width": null,
            "min_width": null,
            "border": null,
            "align_items": null,
            "bottom": null,
            "_model_module": "@jupyter-widgets/base",
            "top": null,
            "grid_column": null,
            "overflow_y": null,
            "overflow_x": null,
            "grid_auto_flow": null,
            "grid_area": null,
            "grid_template_columns": null,
            "flex": null,
            "_model_name": "LayoutModel",
            "justify_items": null,
            "grid_row": null,
            "max_height": null,
            "align_content": null,
            "visibility": null,
            "align_self": null,
            "height": null,
            "min_height": null,
            "padding": null,
            "grid_auto_rows": null,
            "grid_gap": null,
            "max_width": null,
            "order": null,
            "_view_module_version": "1.2.0",
            "grid_template_areas": null,
            "object_position": null,
            "object_fit": null,
            "grid_auto_columns": null,
            "margin": null,
            "display": null,
            "left": null
          }
        },
        "04a7ad2bef1844f69b86db2e9983fcbb": {
          "model_module": "@jupyter-widgets/controls",
          "model_name": "DescriptionStyleModel",
          "model_module_version": "1.5.0",
          "state": {
            "_view_name": "StyleView",
            "_model_name": "DescriptionStyleModel",
            "description_width": "",
            "_view_module": "@jupyter-widgets/base",
            "_model_module_version": "1.5.0",
            "_view_count": null,
            "_view_module_version": "1.2.0",
            "_model_module": "@jupyter-widgets/controls"
          }
        },
        "fcddc881cdd94bf8bd7ce442467fe74d": {
          "model_module": "@jupyter-widgets/base",
          "model_name": "LayoutModel",
          "model_module_version": "1.2.0",
          "state": {
            "_view_name": "LayoutView",
            "grid_template_rows": null,
            "right": null,
            "justify_content": null,
            "_view_module": "@jupyter-widgets/base",
            "overflow": null,
            "_model_module_version": "1.2.0",
            "_view_count": null,
            "flex_flow": null,
            "width": null,
            "min_width": null,
            "border": null,
            "align_items": null,
            "bottom": null,
            "_model_module": "@jupyter-widgets/base",
            "top": null,
            "grid_column": null,
            "overflow_y": null,
            "overflow_x": null,
            "grid_auto_flow": null,
            "grid_area": null,
            "grid_template_columns": null,
            "flex": null,
            "_model_name": "LayoutModel",
            "justify_items": null,
            "grid_row": null,
            "max_height": null,
            "align_content": null,
            "visibility": null,
            "align_self": null,
            "height": null,
            "min_height": null,
            "padding": null,
            "grid_auto_rows": null,
            "grid_gap": null,
            "max_width": null,
            "order": null,
            "_view_module_version": "1.2.0",
            "grid_template_areas": null,
            "object_position": null,
            "object_fit": null,
            "grid_auto_columns": null,
            "margin": null,
            "display": null,
            "left": null
          }
        }
      }
    }
  },
  "cells": [
    {
      "cell_type": "markdown",
      "metadata": {
        "id": "view-in-github",
        "colab_type": "text"
      },
      "source": [
        "<a href=\"https://colab.research.google.com/github/IpshitaSingh/Vonder/blob/main/NewProfile.ipynb\" target=\"_parent\"><img src=\"https://colab.research.google.com/assets/colab-badge.svg\" alt=\"Open In Colab\"/></a>"
      ]
    },
    {
      "cell_type": "markdown",
      "metadata": {
        "id": "mLsCttjgf2ks"
      },
      "source": [
        "## Creating New Profiles"
      ]
    },
    {
      "cell_type": "code",
      "metadata": {
        "id": "JTzBiATvf1wk"
      },
      "source": [
        "# Loading the Libraries and Data\n",
        "import pandas as pd\n",
        "pd.set_option('display.max_colwidth', 500)\n",
        "import numpy as np\n",
        "import matplotlib.pyplot as plt\n",
        "import seaborn as sns\n",
        "import _pickle as pickle\n",
        "from sklearn.feature_extraction.text import CountVectorizer\n",
        "from sklearn.cluster import AgglomerativeClustering\n",
        "from sklearn.metrics import silhouette_score, davies_bouldin_score\n",
        "from sklearn.preprocessing import MinMaxScaler\n",
        "from sklearn.model_selection import train_test_split\n",
        "from sklearn.metrics import confusion_matrix, classification_report\n",
        "from sklearn.pipeline import Pipeline\n",
        "from tqdm import tqdm_notebook as tqdm\n",
        "\n",
        "# Loading in the original unclustered DF\n",
        "with open(\"numuser_data.pkl\",'rb') as fp:\n",
        "    raw_df = pickle.load(fp)\n",
        "\n",
        "# Loading in the clustered DF\n",
        "with open(\"clustered_profiles.pkl\",'rb') as fp:\n",
        "    cluster_df = pickle.load(fp)"
      ],
      "execution_count": 2,
      "outputs": []
    },
    {
      "cell_type": "code",
      "metadata": {
        "colab": {
          "base_uri": "https://localhost:8080/"
        },
        "id": "l8C1YFEkgT8b",
        "outputId": "98a29fb5-e293-4254-8163-a2b01f98c470"
      },
      "source": [
        "# Instantiating a new DF row to append later\n",
        "new_profile = pd.DataFrame(columns=raw_df.columns)\n",
        "\n",
        "# Adding random values for new data\n",
        "for i in new_profile.columns[1:]:\n",
        "    new_profile[i] = np.random.randint(0,10,1)\n",
        "\n",
        "# Printing an user interface for inputting new values\n",
        "print(\"Enter new profile information...\\n\\nExample Bio:\\nBacon enthusiast. Falls down a lot. Freelance social media fan. Infuriatingly humble introvert.\")\n",
        "\n",
        "# Asking for new profile data\n",
        "new_profile['Bios'] = input(\"Enter bio: \")\n",
        "\n",
        "# Indexing that new profile data\n",
        "new_profile.index = [raw_df.index[-1] + 1]"
      ],
      "execution_count": 7,
      "outputs": [
        {
          "name": "stdout",
          "output_type": "stream",
          "text": [
            "Enter new profile information...\n",
            "\n",
            "Example Bio:\n",
            "Bacon enthusiast. Falls down a lot. Freelance social media fan. Infuriatingly humble introvert.\n",
            "Enter bio: dog lover. nature lover. food lover\n"
          ]
        }
      ]
    },
    {
      "cell_type": "code",
      "metadata": {
        "id": "l6ngZd-bgyQb"
      },
      "source": [
        "# object = pd.read_pickle(r'numuser_data.pkl')\n",
        "# object"
      ],
      "execution_count": 9,
      "outputs": []
    },
    {
      "cell_type": "code",
      "metadata": {
        "id": "Atn8dRQniC3T"
      },
      "source": [
        "# Appending the new data\n",
        "new_cluster = raw_df.append(new_profile)"
      ],
      "execution_count": 10,
      "outputs": []
    },
    {
      "cell_type": "markdown",
      "metadata": {
        "id": "uMgMdYaTiNkP"
      },
      "source": [
        "## Scaling"
      ]
    },
    {
      "cell_type": "code",
      "metadata": {
        "id": "duLopYzTiN44"
      },
      "source": [
        "# Instantiating the Scaler\n",
        "scaler = MinMaxScaler()\n",
        "\n",
        "# Scaling the categories then replacing the old values\n",
        "df = new_cluster[['Bios']].join(pd.DataFrame(scaler.fit_transform(new_cluster.drop('Bios', axis=1)), columns=new_cluster.columns[1:], index=new_cluster.index))"
      ],
      "execution_count": 11,
      "outputs": []
    },
    {
      "cell_type": "markdown",
      "metadata": {
        "id": "YQYHGON5iTb4"
      },
      "source": [
        "## Vectorizing"
      ]
    },
    {
      "cell_type": "code",
      "metadata": {
        "id": "7BHlE09aiUWP"
      },
      "source": [
        "# Instantiating the Vectorizer\n",
        "vectorizer = CountVectorizer()\n",
        "\n",
        "# Fitting the vectorizer to the Bios\n",
        "x = vectorizer.fit_transform(df['Bios'])\n",
        "\n",
        "# Creating a new DF that contains the vectorized words\n",
        "df_wrds = pd.DataFrame(x.toarray(), columns=vectorizer.get_feature_names())\n",
        "\n",
        "# Concating the words DF with the original DF\n",
        "new_df = pd.concat([df, df_wrds], axis=1)\n",
        "\n",
        "# Dropping the Bios because it is no longer needed in place of vectorization\n",
        "new_df.drop('Bios', axis=1, inplace=True)"
      ],
      "execution_count": 12,
      "outputs": []
    },
    {
      "cell_type": "markdown",
      "metadata": {
        "id": "McFinIwei6YL"
      },
      "source": [
        "## PCA"
      ]
    },
    {
      "cell_type": "code",
      "metadata": {
        "id": "Evwmcp69iepJ"
      },
      "source": [
        "# Importing the library\n",
        "from sklearn.decomposition import PCA\n",
        "\n",
        "# Instantiating PCA\n",
        "pca = PCA()\n",
        "\n",
        "# Fitting and Transforming the DF\n",
        "df_pca = pca.fit_transform(new_df)\n",
        "\n",
        "# Finding the exact number of features that explain at least 99% of the variance in the dataset\n",
        "total_explained_variance = pca.explained_variance_ratio_.cumsum()\n",
        "n_over_99 = len(total_explained_variance[total_explained_variance>=.99])\n",
        "n_to_reach_99 = new_df.shape[1] - n_over_99\n",
        "\n",
        "# Reducing the dataset to the number of features determined before\n",
        "pca = PCA(n_components=n_to_reach_99)\n",
        "\n",
        "# Fitting and transforming the dataset to the stated number of features\n",
        "df_pca = pca.fit_transform(new_df)"
      ],
      "execution_count": 13,
      "outputs": []
    },
    {
      "cell_type": "markdown",
      "metadata": {
        "id": "MFz92Nk4jGNf"
      },
      "source": [
        "## HAC"
      ]
    },
    {
      "cell_type": "code",
      "metadata": {
        "colab": {
          "base_uri": "https://localhost:8080/",
          "height": 99,
          "referenced_widgets": [
            "6d0799e679b64de99180e4c74cb62d26",
            "99fdeb6b10264d5281dd7214b21fba2c",
            "a17f6e7a5f37422b996a20851c0d665b",
            "b5bc96fc9c674313b8b949fe75aceca8",
            "a4d3a34cac5b4bc5ac1054eba90999c6",
            "c4aa92b70a2042b8a90c07ab98b398a4",
            "46cbe0523e644879826abae2819b475e",
            "2913198140ff4552b886569bcc921884",
            "b100b0febadc47d184e05c1d4ade608f",
            "04a7ad2bef1844f69b86db2e9983fcbb",
            "fcddc881cdd94bf8bd7ce442467fe74d"
          ]
        },
        "id": "-E0u7cU5jGfU",
        "outputId": "213886be-f8d3-43ef-bb42-09b7cb07d18b"
      },
      "source": [
        "# Setting the amount of clusters to test out\n",
        "cluster_cnt = [i for i in range(2, 20, 1)]\n",
        "\n",
        "# Establishing empty lists to store the scores for the evaluation metrics\n",
        "s_scores = []\n",
        "\n",
        "db_scores = []\n",
        "\n",
        "# Looping through different iterations for the number of clusters\n",
        "for i in tqdm(cluster_cnt):\n",
        "    \n",
        "    # Clustering with different number of clusters\n",
        "    hac = AgglomerativeClustering(n_clusters=i)\n",
        "    \n",
        "    hac.fit(df_pca)\n",
        "    \n",
        "    cluster_assignments = hac.labels_\n",
        "    \n",
        "    # Appending the scores to the empty lists    \n",
        "    s_scores.append(silhouette_score(df_pca, cluster_assignments))\n",
        "    \n",
        "    db_scores.append(davies_bouldin_score(df_pca, cluster_assignments))"
      ],
      "execution_count": 14,
      "outputs": [
        {
          "output_type": "stream",
          "name": "stderr",
          "text": [
            "/usr/local/lib/python3.7/dist-packages/ipykernel_launcher.py:10: TqdmDeprecationWarning: This function will be removed in tqdm==5.0.0\n",
            "Please use `tqdm.notebook.tqdm` instead of `tqdm.tqdm_notebook`\n",
            "  # Remove the CWD from sys.path while we load stuff.\n"
          ]
        },
        {
          "output_type": "display_data",
          "data": {
            "application/vnd.jupyter.widget-view+json": {
              "model_id": "6d0799e679b64de99180e4c74cb62d26",
              "version_minor": 0,
              "version_major": 2
            },
            "text/plain": [
              "  0%|          | 0/18 [00:00<?, ?it/s]"
            ]
          },
          "metadata": {}
        }
      ]
    },
    {
      "cell_type": "code",
      "metadata": {
        "colab": {
          "base_uri": "https://localhost:8080/"
        },
        "id": "JrLJezQpjQda",
        "outputId": "319dc9dd-8536-47d9-f7f5-ed65e744e0e5"
      },
      "source": [
        "def cluster_eval(y, x):\n",
        "    \"\"\"\n",
        "    Prints the scores of a set evaluation metric. Prints out the max and min values of the evaluation scores.\n",
        "    \"\"\"\n",
        "    \n",
        "    # Creating a DataFrame for returning the max and min scores for each cluster\n",
        "    df = pd.DataFrame(columns=['Cluster Score'], index=[i for i in range(2, len(y)+2)])\n",
        "    df['Cluster Score'] = y\n",
        "    \n",
        "    print('Max Value:\\nCluster #', df[df['Cluster Score']==df['Cluster Score'].max()])\n",
        "    print('\\nMin Value:\\nCluster #', df[df['Cluster Score']==df['Cluster Score'].min()])\n",
        "    \n",
        "    \n",
        "print(\"\\nThe Silhouette Coefficient Score (find max score):\")\n",
        "cluster_eval(s_scores, cluster_cnt)\n",
        "\n",
        "print(\"\\nThe Davies-Bouldin Score (find minimum score):\")\n",
        "cluster_eval(db_scores, cluster_cnt)"
      ],
      "execution_count": 15,
      "outputs": [
        {
          "output_type": "stream",
          "name": "stdout",
          "text": [
            "\n",
            "The Silhouette Coefficient Score (find max score):\n",
            "Max Value:\n",
            "Cluster #     Cluster Score\n",
            "19       0.056955\n",
            "\n",
            "Min Value:\n",
            "Cluster #    Cluster Score\n",
            "2        0.01493\n",
            "\n",
            "The Davies-Bouldin Score (find minimum score):\n",
            "Max Value:\n",
            "Cluster #    Cluster Score\n",
            "3       5.947207\n",
            "\n",
            "Min Value:\n",
            "Cluster #     Cluster Score\n",
            "19       3.430041\n"
          ]
        }
      ]
    },
    {
      "cell_type": "markdown",
      "metadata": {
        "id": "O3NZt-Eojdtq"
      },
      "source": [
        "## Running HAC\n"
      ]
    },
    {
      "cell_type": "code",
      "metadata": {
        "id": "k2FNKX8sjhnj"
      },
      "source": [
        "# Instantiating HAC\n",
        "hac = AgglomerativeClustering(n_clusters=12)\n",
        "\n",
        "# Fitting\n",
        "hac.fit(df_pca)\n",
        "\n",
        "# Getting cluster assignments\n",
        "cluster_assignments = hac.labels_\n",
        "\n",
        "# Unscaling the categories then replacing the scaled values\n",
        "df = df[['Bios']].join(pd.DataFrame(scaler.inverse_transform(df.drop('Bios', axis=1)), columns=df.columns[1:], index=df.index))\n",
        "\n",
        "# Assigning the clusters to each profile\n",
        "df['Cluster #'] = cluster_assignments\n",
        "\n",
        "\n",
        "## Finding the Exact Cluster for our New Profile\n",
        "# Getting the Cluster # for the new profile\n",
        "profile_cluster = df.loc[new_profile.index]['Cluster #'].values[0]\n",
        "\n",
        "# Using the Cluster # to narrow down the DF\n",
        "profile_df = df[df['Cluster #']==profile_cluster].drop('Cluster #', axis=1)\n"
      ],
      "execution_count": 16,
      "outputs": []
    },
    {
      "cell_type": "markdown",
      "metadata": {
        "id": "Y6xnRCuCjp8Y"
      },
      "source": [
        "## Vectorizing\n",
        "Finding Top 10 Profiles for Newly Created Profile"
      ]
    },
    {
      "cell_type": "code",
      "metadata": {
        "colab": {
          "base_uri": "https://localhost:8080/",
          "height": 357
        },
        "id": "xinrWICqjrZu",
        "outputId": "612304d1-5caa-499a-89be-0ab5ad43af4a"
      },
      "source": [
        "# Fitting the vectorizer to the Bios\n",
        "cluster_x = vectorizer.fit_transform(profile_df['Bios'])\n",
        "\n",
        "# Creating a new DF that contains the vectorized words\n",
        "cluster_v = pd.DataFrame(cluster_x.toarray(), index=profile_df.index, columns=vectorizer.get_feature_names())\n",
        "\n",
        "# Joining the Vectorized DF to the previous DF\n",
        "profile_df = profile_df.join(cluster_v).drop('Bios', axis=1)\n",
        "\n",
        "\n",
        "## Correlation\n",
        "# Trasnposing the DF so that we are correlating with the index(users) and finding the correlation\n",
        "corr = profile_df.T.corr()\n",
        "\n",
        "# Finding the Top 10 similar or correlated users to the new user\n",
        "user_n = new_profile.index[0]\n",
        "\n",
        "# Creating a DF with the Top 10 most similar profiles\n",
        "top_10_sim = corr[[user_n]].sort_values(by=[user_n],axis=0, ascending=False)[1:11]\n",
        "\n",
        "# Displaying the Top 10\n",
        "raw_df.loc[top_10_sim.index]"
      ],
      "execution_count": 17,
      "outputs": [
        {
          "output_type": "execute_result",
          "data": {
            "text/html": [
              "<div>\n",
              "<style scoped>\n",
              "    .dataframe tbody tr th:only-of-type {\n",
              "        vertical-align: middle;\n",
              "    }\n",
              "\n",
              "    .dataframe tbody tr th {\n",
              "        vertical-align: top;\n",
              "    }\n",
              "\n",
              "    .dataframe thead th {\n",
              "        text-align: right;\n",
              "    }\n",
              "</style>\n",
              "<table border=\"1\" class=\"dataframe\">\n",
              "  <thead>\n",
              "    <tr style=\"text-align: right;\">\n",
              "      <th></th>\n",
              "      <th>Bios</th>\n",
              "      <th>Location</th>\n",
              "      <th>Interested in</th>\n",
              "      <th>Age</th>\n",
              "      <th>Movies</th>\n",
              "      <th>Music</th>\n",
              "      <th>Sports</th>\n",
              "      <th>Politics</th>\n",
              "      <th>Social Media</th>\n",
              "    </tr>\n",
              "  </thead>\n",
              "  <tbody>\n",
              "    <tr>\n",
              "      <th>3729</th>\n",
              "      <td>Food specialist. Hardcore writer. Tv practitioner. Amateur explorer. Passionate gamer.</td>\n",
              "      <td>9</td>\n",
              "      <td>5</td>\n",
              "      <td>1</td>\n",
              "      <td>3</td>\n",
              "      <td>0</td>\n",
              "      <td>5</td>\n",
              "      <td>7</td>\n",
              "      <td>4</td>\n",
              "    </tr>\n",
              "    <tr>\n",
              "      <th>2063</th>\n",
              "      <td>Amateur tv junkie. Communicator. Music expert. Travel guru. Wannabe introvert. Internet practitioner.</td>\n",
              "      <td>8</td>\n",
              "      <td>6</td>\n",
              "      <td>1</td>\n",
              "      <td>0</td>\n",
              "      <td>4</td>\n",
              "      <td>3</td>\n",
              "      <td>8</td>\n",
              "      <td>6</td>\n",
              "    </tr>\n",
              "    <tr>\n",
              "      <th>2391</th>\n",
              "      <td>Typical travel expert. Unapologetic reader. Friendly food buff. Certified zombie nerd. Thinker.</td>\n",
              "      <td>7</td>\n",
              "      <td>3</td>\n",
              "      <td>2</td>\n",
              "      <td>1</td>\n",
              "      <td>3</td>\n",
              "      <td>6</td>\n",
              "      <td>8</td>\n",
              "      <td>5</td>\n",
              "    </tr>\n",
              "    <tr>\n",
              "      <th>4634</th>\n",
              "      <td>Explorer. Amateur food evangelist. Passionate tv fan. Typical social mediaholic. Beer fanatic.</td>\n",
              "      <td>8</td>\n",
              "      <td>3</td>\n",
              "      <td>2</td>\n",
              "      <td>0</td>\n",
              "      <td>0</td>\n",
              "      <td>1</td>\n",
              "      <td>6</td>\n",
              "      <td>4</td>\n",
              "    </tr>\n",
              "    <tr>\n",
              "      <th>253</th>\n",
              "      <td>Total bacon advocate. Devoted zombie scholar. Falls down a lot. Infuriatingly humble gamer. Social media expert.</td>\n",
              "      <td>9</td>\n",
              "      <td>2</td>\n",
              "      <td>0</td>\n",
              "      <td>1</td>\n",
              "      <td>0</td>\n",
              "      <td>6</td>\n",
              "      <td>9</td>\n",
              "      <td>3</td>\n",
              "    </tr>\n",
              "    <tr>\n",
              "      <th>2321</th>\n",
              "      <td>Coffee lover. Introvert. Food fanatic. Analyst. Bacon advocate. Extreme twitter fanatic.</td>\n",
              "      <td>7</td>\n",
              "      <td>4</td>\n",
              "      <td>3</td>\n",
              "      <td>5</td>\n",
              "      <td>0</td>\n",
              "      <td>2</td>\n",
              "      <td>7</td>\n",
              "      <td>5</td>\n",
              "    </tr>\n",
              "    <tr>\n",
              "      <th>2450</th>\n",
              "      <td>Twitter aficionado. Hardcore alcohol practitioner. Bacon expert. Typical web nerd. Creator.</td>\n",
              "      <td>9</td>\n",
              "      <td>7</td>\n",
              "      <td>0</td>\n",
              "      <td>0</td>\n",
              "      <td>6</td>\n",
              "      <td>3</td>\n",
              "      <td>9</td>\n",
              "      <td>6</td>\n",
              "    </tr>\n",
              "    <tr>\n",
              "      <th>396</th>\n",
              "      <td>Communicator. Extreme writer. Tv nerd. Wannabe organizer. Amateur music maven. Analyst.</td>\n",
              "      <td>7</td>\n",
              "      <td>2</td>\n",
              "      <td>4</td>\n",
              "      <td>0</td>\n",
              "      <td>1</td>\n",
              "      <td>2</td>\n",
              "      <td>9</td>\n",
              "      <td>5</td>\n",
              "    </tr>\n",
              "    <tr>\n",
              "      <th>4357</th>\n",
              "      <td>Lifelong coffee maven. Food fanatic. Subtly charming social mediaholic. Tv trailblazer.</td>\n",
              "      <td>8</td>\n",
              "      <td>4</td>\n",
              "      <td>2</td>\n",
              "      <td>0</td>\n",
              "      <td>0</td>\n",
              "      <td>5</td>\n",
              "      <td>8</td>\n",
              "      <td>1</td>\n",
              "    </tr>\n",
              "    <tr>\n",
              "      <th>3957</th>\n",
              "      <td>Zombie trailblazer. Beer evangelist. Internet enthusiast. General thinker. Passionate introvert.</td>\n",
              "      <td>8</td>\n",
              "      <td>9</td>\n",
              "      <td>5</td>\n",
              "      <td>3</td>\n",
              "      <td>3</td>\n",
              "      <td>4</td>\n",
              "      <td>8</td>\n",
              "      <td>8</td>\n",
              "    </tr>\n",
              "  </tbody>\n",
              "</table>\n",
              "</div>"
            ],
            "text/plain": [
              "                                                                                                                  Bios  ...  Social Media\n",
              "3729                            Food specialist. Hardcore writer. Tv practitioner. Amateur explorer. Passionate gamer.  ...             4\n",
              "2063             Amateur tv junkie. Communicator. Music expert. Travel guru. Wannabe introvert. Internet practitioner.  ...             6\n",
              "2391                   Typical travel expert. Unapologetic reader. Friendly food buff. Certified zombie nerd. Thinker.  ...             5\n",
              "4634                    Explorer. Amateur food evangelist. Passionate tv fan. Typical social mediaholic. Beer fanatic.  ...             4\n",
              "253   Total bacon advocate. Devoted zombie scholar. Falls down a lot. Infuriatingly humble gamer. Social media expert.  ...             3\n",
              "2321                          Coffee lover. Introvert. Food fanatic. Analyst. Bacon advocate. Extreme twitter fanatic.  ...             5\n",
              "2450                       Twitter aficionado. Hardcore alcohol practitioner. Bacon expert. Typical web nerd. Creator.  ...             6\n",
              "396                            Communicator. Extreme writer. Tv nerd. Wannabe organizer. Amateur music maven. Analyst.  ...             5\n",
              "4357                           Lifelong coffee maven. Food fanatic. Subtly charming social mediaholic. Tv trailblazer.  ...             1\n",
              "3957                  Zombie trailblazer. Beer evangelist. Internet enthusiast. General thinker. Passionate introvert.  ...             8\n",
              "\n",
              "[10 rows x 9 columns]"
            ]
          },
          "metadata": {},
          "execution_count": 17
        }
      ]
    }
  ]
}
